{
 "cells": [
  {
   "cell_type": "markdown",
   "id": "insured-legislation",
   "metadata": {},
   "source": [
    "# <div align=\"center\">TP - De Scratch à Python</div>\n",
    "## Partie A. Étude d’un programme de calcul\n",
    "Voici un programme Scratch \n",
    "![Image de programme SCratch](Image_Scratch.png)\n",
    "\n",
    "  1. Quelles sont les variables utilisées ?"
   ]
  },
  {
   "cell_type": "raw",
   "id": "related-carnival",
   "metadata": {},
   "source": []
  },
  {
   "cell_type": "markdown",
   "id": "sporting-pulse",
   "metadata": {},
   "source": [
    "  2. On a fait fonctionner ce programme en choisissant le nombre 5.\n",
    "     \n",
    "     Quel est l’affichage a-t-on eu à la fin ?"
   ]
  },
  {
   "cell_type": "raw",
   "id": "cooked-semester",
   "metadata": {},
   "source": []
  },
  {
   "cell_type": "markdown",
   "id": "productive-freedom",
   "metadata": {},
   "source": [
    "  3. On a fait fonctionner ce programme et à la fin il a affiché « On obtient 8 ».\n",
    "       Quel est le nombre choisi au départ ?"
   ]
  },
  {
   "cell_type": "raw",
   "id": "polish-venezuela",
   "metadata": {},
   "source": []
  },
  {
   "cell_type": "markdown",
   "id": "undefined-median",
   "metadata": {},
   "source": [
    "  4. Si on appelle $x$ le nombre choisi au départ, donner en fonction de $x$ une expression simplifiée du résultat"
   ]
  },
  {
   "cell_type": "raw",
   "id": "tamil-massage",
   "metadata": {},
   "source": []
  },
  {
   "cell_type": "markdown",
   "id": "authorized-glucose",
   "metadata": {},
   "source": [
    "  4. Il existe plusieurs langages de programmation mais au lycée, on va apprendre à programmer en `Python`.\n",
    "  \n",
    "  Voici un dictionnaire permettant de traduire les commande de scratch en Python.\n",
    " \n",
    " ![Dictionnaire_Scratch_Python](Dictionnaire_Scratch_Python.png)\n",
    " \n",
    "  Dans la cellule ci-dessou,\n",
    "  \n",
    "  a. traduire le programme scratch en langage Python\n",
    "  \n",
    "  b. tester le nouveau programme pour différentes valeurs de $x$ en cliquant sur l'icône **`Run`** ou **`Exécuter`**"
   ]
  },
  {
   "cell_type": "code",
   "execution_count": null,
   "id": "noble-integer",
   "metadata": {},
   "outputs": [],
   "source": []
  },
  {
   "cell_type": "markdown",
   "id": "experienced-fourth",
   "metadata": {},
   "source": [
    "## Partie B. Un second programme de calcul\n",
    "\n",
    "  1. Maxime a écrit en Python le programme ce-dessous\n",
    "  ![Script_Partie_B](Script_Partie_B.png)\n",
    "  \n",
    "  a) Exécuter à la main ce programme et écrire dans la cellule ci-dessous le résultat obtenu."
   ]
  },
  {
   "cell_type": "raw",
   "id": "confidential-proposal",
   "metadata": {},
   "source": []
  },
  {
   "cell_type": "markdown",
   "id": "cutting-treatment",
   "metadata": {},
   "source": [
    "    b) Exprimer à l'aide de x, l'expression obtenue à la fin du programme et l'écrire dans la cellule ci-dessous."
   ]
  },
  {
   "cell_type": "raw",
   "id": "paperback-venezuela",
   "metadata": {},
   "source": []
  },
  {
   "cell_type": "markdown",
   "id": "informed-belief",
   "metadata": {},
   "source": [
    "    c) Recopier le programme de Maxime dans la cellule ci-dessous et le tester."
   ]
  },
  {
   "cell_type": "code",
   "execution_count": null,
   "id": "declared-casting",
   "metadata": {},
   "outputs": [],
   "source": []
  },
  {
   "cell_type": "markdown",
   "id": "ideal-officer",
   "metadata": {},
   "source": [
    "    d) Peut-on choisir un nombre pour lequel le résultat obtenu par Maxime est le même que celui obtenu par Julie ? si oui lequel ? "
   ]
  },
  {
   "cell_type": "raw",
   "id": "plain-japanese",
   "metadata": {},
   "source": []
  }
 ],
 "metadata": {
  "kernelspec": {
   "display_name": "Python 3",
   "language": "python",
   "name": "python3"
  },
  "language_info": {
   "codemirror_mode": {
    "name": "ipython",
    "version": 3
   },
   "file_extension": ".py",
   "mimetype": "text/x-python",
   "name": "python",
   "nbconvert_exporter": "python",
   "pygments_lexer": "ipython3",
   "version": "3.7.9"
  }
 },
 "nbformat": 4,
 "nbformat_minor": 5
}
