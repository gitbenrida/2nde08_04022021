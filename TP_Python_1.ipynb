{
 "cells": [
  {
   "cell_type": "markdown",
   "id": "swiss-discount",
   "metadata": {},
   "source": [
    "# TP - De Scratch à Python\n",
    "## Partie A. Étude d’un programme de calcul\n",
    "Voici un programme Scratch \n",
    "![Image de programme SCratch](Image_Scratch.png)\n",
    "\n",
    "  1. Quelles sont les variables utilisées ?"
   ]
  },
  {
   "cell_type": "raw",
   "id": "continental-personality",
   "metadata": {},
   "source": []
  },
  {
   "cell_type": "markdown",
   "id": "civil-timber",
   "metadata": {},
   "source": [
    "  2. On a fait fonctionner ce programme en choisissant le nombre 5.\n",
    "     \n",
    "     Quel est l’affichage a-t-on eu à la fin ?"
   ]
  },
  {
   "cell_type": "raw",
   "id": "elementary-inspection",
   "metadata": {},
   "source": []
  },
  {
   "cell_type": "markdown",
   "id": "chinese-grave",
   "metadata": {},
   "source": [
    "  3. On a fait fonctionner ce programme et à la fin il a affiché « On obtient 8 ».\n",
    "       Quel est le nombre choisi au départ ?"
   ]
  },
  {
   "cell_type": "raw",
   "id": "exterior-girlfriend",
   "metadata": {},
   "source": []
  },
  {
   "cell_type": "markdown",
   "id": "essential-mention",
   "metadata": {},
   "source": [
    "  4. Si on appelle $x$ le nombre choisi au départ, donner en fonction de $x$ une expression simplifiée du résultat"
   ]
  },
  {
   "cell_type": "raw",
   "id": "periodic-sugar",
   "metadata": {},
   "source": []
  },
  {
   "cell_type": "markdown",
   "id": "divine-marriage",
   "metadata": {},
   "source": [
    "  4. Il existe plusieurs langages de programmation mais au lycée, on va apprendre à programmer en `Python`.\n",
    "  \n",
    "  Voici un dictionnaire permettant de traduire les commande de scratch en Python.\n",
    " \n",
    " ![Dictionnaire_Scratch_Python](Dictionnaire_Scratch_Python.png)\n",
    " \n",
    "  Dans la cellule ci-dessou, traduire le programme scratch en langage Python et le tester pour différente valeur de $x$"
   ]
  },
  {
   "cell_type": "code",
   "execution_count": null,
   "id": "attached-identity",
   "metadata": {},
   "outputs": [],
   "source": []
  },
  {
   "cell_type": "markdown",
   "id": "supported-pursuit",
   "metadata": {},
   "source": [
    "## Partie B. Un second programme de calcul\n",
    "\n",
    "  1. Maxime a écrit en Python le programme ce-dessous\n",
    "  ![Script_Partie_B](Script_Partie_B.png)\n",
    "  \n",
    "  a) Exécuter à la main ce programme et écrire dans la cellule ci-dessous le résultat obtenu."
   ]
  },
  {
   "cell_type": "raw",
   "id": "living-sheriff",
   "metadata": {},
   "source": []
  },
  {
   "cell_type": "markdown",
   "id": "junior-scheme",
   "metadata": {},
   "source": [
    "    b) Exprimer à l'aide de x, l'expression obtenue à la fin du programme et l'écrire dans la cellule ci-dessous."
   ]
  },
  {
   "cell_type": "raw",
   "id": "twenty-breach",
   "metadata": {},
   "source": []
  },
  {
   "cell_type": "markdown",
   "id": "adult-sucking",
   "metadata": {},
   "source": [
    "    c) Recopier le programme de Maxime dans la cellule ci-dessous et le tester."
   ]
  },
  {
   "cell_type": "code",
   "execution_count": null,
   "id": "instant-voice",
   "metadata": {},
   "outputs": [],
   "source": []
  },
  {
   "cell_type": "markdown",
   "id": "global-thunder",
   "metadata": {},
   "source": [
    "    d) Peut-on choisir un nombre pour lequel le résultat obtenu par Maxime est le même que celui obtenu par Julie ? si oui lequel ? "
   ]
  },
  {
   "cell_type": "raw",
   "id": "legal-function",
   "metadata": {},
   "source": []
  }
 ],
 "metadata": {
  "kernelspec": {
   "display_name": "Python 3",
   "language": "python",
   "name": "python3"
  },
  "language_info": {
   "codemirror_mode": {
    "name": "ipython",
    "version": 3
   },
   "file_extension": ".py",
   "mimetype": "text/x-python",
   "name": "python",
   "nbconvert_exporter": "python",
   "pygments_lexer": "ipython3",
   "version": "3.7.9"
  }
 },
 "nbformat": 4,
 "nbformat_minor": 5
}
